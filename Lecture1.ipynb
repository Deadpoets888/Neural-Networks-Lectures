{
 "cells": [
  {
   "cell_type": "code",
   "execution_count": 9,
   "id": "58e1ec1b-b5dc-47a6-aed0-e43ad253a552",
   "metadata": {},
   "outputs": [
    {
     "name": "stdout",
     "output_type": "stream",
     "text": [
      "82.3\n"
     ]
    }
   ],
   "source": [
    "## coding a neuron\n",
    "input = [2.1,5.3,6.1]\n",
    "weight = [2,4,9]\n",
    "\n",
    "bias = 2\n",
    "\n",
    "output = input[0]*weight[0] + input[1]*weight[1] + input[2]*weight[2] + bias\n",
    "print(output)"
   ]
  },
  {
   "cell_type": "code",
   "execution_count": 3,
   "id": "b75a0937-4e6e-40cd-ac42-76716be80bfa",
   "metadata": {},
   "outputs": [
    {
     "name": "stdout",
     "output_type": "stream",
     "text": [
      "87\n"
     ]
    }
   ],
   "source": [
    "##coding a layer{3 neurons}\n",
    "Input = [4,1,6,8]\n",
    "Weight = [[2,3,4,6],[0.2,0.6,0.4,0.8],[0.1,0.6,0.15,-0.1]]\n",
    "Biases = [4,5,6] #same as number of neurons\n",
    "\n",
    "##Neuron 1\n",
    "Output1 = Input[0]*Weight[0][0] + Input[1]*Weight[0][1]+Input[2]*Weight[0][2] + Input[3]*Weight[0][3] + Biases[0]\n",
    "print(Output1)"
   ]
  },
  {
   "cell_type": "code",
   "execution_count": 2,
   "id": "b01f9437-4c60-429e-9c6d-c627d85e4267",
   "metadata": {},
   "outputs": [
    {
     "name": "stdout",
     "output_type": "stream",
     "text": [
      "[87, 15.200000000000001, 7.1]\n"
     ]
    }
   ],
   "source": [
    "#using loop\n",
    "Input = [4,1,6,8]\n",
    "Weight = [[2,3,4,6],[0.2,0.6,0.4,0.8],[0.1,0.6,0.15,-0.1]]\n",
    "Biases = [4,5,6]\n",
    "\n",
    "layer_output = []\n",
    "\n",
    "for neuron_weight, neuron_bias in zip(Weight, Biases):\n",
    "    neuron_output = 0\n",
    "    for n_input, weight in zip(Input, neuron_weight):\n",
    "        neuron_output += n_input*weight\n",
    "    neuron_output += neuron_bias\n",
    "    layer_output.append(neuron_output)\n",
    "print(layer_output)"
   ]
  },
  {
   "cell_type": "code",
   "execution_count": null,
   "id": "6166d0fa-dfc1-4fb2-80e1-cabbc7d8fbb0",
   "metadata": {},
   "outputs": [],
   "source": []
  }
 ],
 "metadata": {
  "kernelspec": {
   "display_name": "Python 3 (ipykernel)",
   "language": "python",
   "name": "python3"
  },
  "language_info": {
   "codemirror_mode": {
    "name": "ipython",
    "version": 3
   },
   "file_extension": ".py",
   "mimetype": "text/x-python",
   "name": "python",
   "nbconvert_exporter": "python",
   "pygments_lexer": "ipython3",
   "version": "3.13.1"
  }
 },
 "nbformat": 4,
 "nbformat_minor": 5
}
