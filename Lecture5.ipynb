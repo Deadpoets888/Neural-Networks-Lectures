{
 "cells": [
  {
   "cell_type": "code",
   "execution_count": 15,
   "id": "93fbece8-3fbe-4527-b803-c78a6bbdaa1d",
   "metadata": {},
   "outputs": [
    {
     "name": "stdout",
     "output_type": "stream",
     "text": [
      "45\n",
      "45\n",
      "[12 15 18]\n",
      "[ 6 15 24]\n",
      "[[12 15 18]]\n",
      "[[ 6]\n",
      " [15]\n",
      " [24]]\n"
     ]
    }
   ],
   "source": [
    "#Array Summation in python\n",
    "import numpy as np\n",
    "Array1 = np.array([[1,2,3],[4,5,6],[7,8,9]])\n",
    "print (np.sum(Array1))\n",
    "print(np.sum(Array1, axis = None))\n",
    "print(np.sum(Array1, axis= 0))\n",
    "print(np.sum(Array1, axis= 1))\n",
    "print(np.sum(Array1, axis= 0, keepdims = True)) # column wise\n",
    "print(np.sum(Array1, axis= 1, keepdims = True)) # row wise"
   ]
  },
  {
   "cell_type": "code",
   "execution_count": 20,
   "id": "1de1d568-2f5f-4fc1-adb0-db2a003e13bb",
   "metadata": {},
   "outputs": [
    {
     "name": "stdout",
     "output_type": "stream",
     "text": [
      "[3 6 9]\n",
      "[[-2 -4 -6]\n",
      " [ 1 -1 -3]\n",
      " [ 4  2  0]]\n"
     ]
    }
   ],
   "source": [
    "#Application of Array broadcasting \n",
    "Array2 = np.max(Array1, axis = 1,, keepdims = True)\n",
    "print(Array2)\n",
    "\n",
    "print(Array1 - Array2)"
   ]
  },
  {
   "cell_type": "code",
   "execution_count": null,
   "id": "0895243c-3aa4-47f7-aa43-374d944b58af",
   "metadata": {},
   "outputs": [],
   "source": []
  }
 ],
 "metadata": {
  "kernelspec": {
   "display_name": "Python 3 (ipykernel)",
   "language": "python",
   "name": "python3"
  },
  "language_info": {
   "codemirror_mode": {
    "name": "ipython",
    "version": 3
   },
   "file_extension": ".py",
   "mimetype": "text/x-python",
   "name": "python",
   "nbconvert_exporter": "python",
   "pygments_lexer": "ipython3",
   "version": "3.13.1"
  }
 },
 "nbformat": 4,
 "nbformat_minor": 5
}
