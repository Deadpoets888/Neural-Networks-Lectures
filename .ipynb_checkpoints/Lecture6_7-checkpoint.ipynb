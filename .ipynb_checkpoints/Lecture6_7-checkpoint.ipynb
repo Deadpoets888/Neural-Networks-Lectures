{
 "cells": [
  {
   "cell_type": "code",
   "execution_count": 40,
   "id": "8542693d-300c-40fd-845a-eed25e694dea",
   "metadata": {},
   "outputs": [],
   "source": [
    "#from lecture 4\n",
    "class Layer_Dense:\n",
    "    def __init__(self, inputs, neurons):\n",
    "        self.weight = 0.01*np.random.randn(inputs, neurons)\n",
    "        self.biases = np.zeros((1, neurons))\n",
    "\n",
    "    def forwardpass(self, inputs):\n",
    "        self.output = np.dot(inputs, self.weight) + self.biases"
   ]
  },
  {
   "cell_type": "code",
   "execution_count": 41,
   "id": "65017c34-2949-4e50-835b-80bfc2b39873",
   "metadata": {},
   "outputs": [
    {
     "name": "stdout",
     "output_type": "stream",
     "text": [
      "[2. 0. 6. 0. 3. 0.]\n"
     ]
    }
   ],
   "source": [
    "import numpy as np\n",
    "inputs = [2, -5, 6, 0, 3, -0.5]\n",
    "output = np.maximum(0, inputs)#implementation of ReLu\n",
    "print(output)"
   ]
  },
  {
   "cell_type": "code",
   "execution_count": 42,
   "id": "27e1e91f-91d3-4386-9b67-9abcf6e59475",
   "metadata": {},
   "outputs": [],
   "source": [
    "# Relu activation\n",
    "class Activation_ReLu:\n",
    "    #forward pass\n",
    "    def forward(self, inputs):\n",
    "        self.output = np.maximum(0, inputs)\n",
    "        "
   ]
  },
  {
   "cell_type": "code",
   "execution_count": 43,
   "id": "fae434a7-f925-4a22-b9bb-fef767433e8f",
   "metadata": {},
   "outputs": [
    {
     "name": "stdout",
     "output_type": "stream",
     "text": [
      "[[0.         0.         0.        ]\n",
      " [0.         0.00011395 0.        ]\n",
      " [0.         0.00031729 0.        ]\n",
      " [0.         0.00052666 0.        ]\n",
      " [0.         0.00071401 0.        ]]\n"
     ]
    }
   ],
   "source": [
    "from nnfs.datasets import spiral_data\n",
    "import nnfs\n",
    "nnfs.init()\n",
    "X, y = spiral_data(samples = 100, classes=3)\n",
    "\n",
    "dense1 = Layer_Dense(2,3)\n",
    "\n",
    "activation1 = Activation_ReLu()\n",
    "\n",
    "dense1.forwardpass(X)\n",
    "\n",
    "activation1.forward(dense1.output)\n",
    "\n",
    "print(activation1.output[:5])"
   ]
  },
  {
   "cell_type": "code",
   "execution_count": null,
   "id": "6037170b-1544-47ad-b3c7-cb80cd157f9b",
   "metadata": {},
   "outputs": [],
   "source": [
    "##Activation function : Softmax"
   ]
  },
  {
   "cell_type": "code",
   "execution_count": 46,
   "id": "bd4212cd-dd58-445e-8180-d96f7d9105f0",
   "metadata": {},
   "outputs": [
    {
     "name": "stdout",
     "output_type": "stream",
     "text": [
      "[[6.41476854e-02 1.74371488e-01 4.73990846e-01 2.87489981e-01]\n",
      " [1.12457214e-01 1.52194289e-02 4.13706969e-02 8.30952661e-01]\n",
      " [2.95150233e-04 8.02301516e-04 1.19072103e-01 8.79830446e-01]]\n"
     ]
    },
    {
     "data": {
      "text/plain": [
       "array([1., 1., 1.])"
      ]
     },
     "execution_count": 46,
     "metadata": {},
     "output_type": "execute_result"
    }
   ],
   "source": [
    "inputs = [[1, 2, 3, 2.5],\n",
    "          [4, 2, 3, 6],\n",
    "          [1, 2, 7, 9]]\n",
    "expo_values = np.exp(inputs - np.max(inputs, axis=1, keepdims = True))\n",
    "probabilities = expo_values / np.sum(expo_values, axis = 1, keepdims = True)\n",
    "print(probabilities)\n",
    "np.sum(probabilities, axis=1)"
   ]
  },
  {
   "cell_type": "code",
   "execution_count": 49,
   "id": "da3b20ae-8555-41a2-ab72-ea3c0ac06496",
   "metadata": {},
   "outputs": [],
   "source": [
    "#Softmax activation\n",
    "class Activation_softmax:\n",
    "    #forward pass\n",
    "    def forward(self, inputs):\n",
    "        expo_values = np.exp(inputs - np.max(inputs, axis= 1, keepdims= True))\n",
    "\n",
    "        probabilities = expo_values / np.sum(expo_values, axis = 1, keepdims = True)\n",
    "\n",
    "        self.output = probabilities"
   ]
  },
  {
   "cell_type": "code",
   "execution_count": 50,
   "id": "9d923e0a-ba50-4950-acd1-b4461286801d",
   "metadata": {},
   "outputs": [
    {
     "name": "stdout",
     "output_type": "stream",
     "text": [
      "[[0.33333334 0.33333334 0.33333334]\n",
      " [0.3333332  0.3333332  0.33333364]\n",
      " [0.3333329  0.33333293 0.3333342 ]\n",
      " [0.3333326  0.33333263 0.33333477]\n",
      " [0.33333233 0.3333324  0.33333528]]\n"
     ]
    }
   ],
   "source": [
    "#create dataset\n",
    "from nnfs.datasets import spiral_data\n",
    "import nnfs\n",
    "nnfs.init()\n",
    "s, y = spiral_data(samples=100, classes=3)\n",
    "\n",
    "dense01 = Layer_Dense(2,3)\n",
    "activation1 = Activation_ReLu()\n",
    "dense02 = Layer_Dense(3,3)\n",
    "activation2 = Activation_softmax()\n",
    "\n",
    "dense01.forwardpass(s)\n",
    "activation1.forward(dense01.output)\n",
    "dense02.forwardpass(activation1.output)\n",
    "activation2.forward(dense02.output)\n",
    "print(activation2.output[:5])"
   ]
  },
  {
   "cell_type": "code",
   "execution_count": null,
   "id": "688a3e8d-d105-42dd-8b5b-485bbc26c562",
   "metadata": {},
   "outputs": [],
   "source": []
  }
 ],
 "metadata": {
  "kernelspec": {
   "display_name": "Python 3 (ipykernel)",
   "language": "python",
   "name": "python3"
  },
  "language_info": {
   "codemirror_mode": {
    "name": "ipython",
    "version": 3
   },
   "file_extension": ".py",
   "mimetype": "text/x-python",
   "name": "python",
   "nbconvert_exporter": "python",
   "pygments_lexer": "ipython3",
   "version": "3.13.1"
  }
 },
 "nbformat": 4,
 "nbformat_minor": 5
}
