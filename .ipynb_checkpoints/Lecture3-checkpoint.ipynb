{
 "cells": [
  {
   "cell_type": "code",
   "execution_count": 38,
   "id": "9be01a69-17d3-4a81-9a68-5c742cb84deb",
   "metadata": {},
   "outputs": [
    {
     "name": "stdout",
     "output_type": "stream",
     "text": [
      "here is a final output\n",
      "[[ 4432.34588 54505.06551 46696.39402]\n",
      " [ 7149.95515 87759.97974 75307.408  ]\n",
      " [ 6086.30364 74648.91204 64078.51816]]\n"
     ]
    }
   ],
   "source": [
    "## 5 neuron layer\n",
    "import numpy as np\n",
    "\n",
    "Input = np.array([[1,2,4,5],\n",
    "                  [4,5,6,7],\n",
    "                  [4,8,3,6]]) # 3 X 4\n",
    "Weight1 = np.array([[0.1,0.2,1.4,2.5],\n",
    "                    [5.4,1.5,3.6,1.7],\n",
    "                    [2.4,1.8,4.3,6.6]]) # Neuron(3) X Input(4)\n",
    "Biases1 = [1,5,4]\n",
    "\n",
    "\n",
    "Weight2 = np.array([[0.1,0.2,1.4],\n",
    "                    [5.4,1.5,3.6],\n",
    "                    [2.4,1.8,4.3],\n",
    "                    [3.1,4.2,0]]) # 4 X 3\n",
    "Biases2 = [4,2,3,6]\n",
    "\n",
    "Weight3 = np.array([[0.1,0.2,1.4,1.4],\n",
    "                    [5.4,1.5,3.6,4.2],\n",
    "                    [2.4,1.8,4.3,0.9]]) # 4 X 4\n",
    "Biases3 = [1,9,3]\n",
    "\n",
    "Weight4 = np.array([[0.1,0.2,1.4],\n",
    "                    [5.4,1.5,3.6]]) # 4 X 3\n",
    "Biases4 = [2,5]\n",
    "\n",
    "Weight5 = np.array([[0.1,0.2],\n",
    "                    [5.4,1.5],\n",
    "                    [2.4,1.8]]) # 4 X 3\n",
    "Biases5 = [8,6,1]\n",
    "# There are 5 layers of Neuron\n",
    "\n",
    "Output1 = np.dot(Input, Weight1.T) + Biases1 # 3 X 3\n",
    "# print(Output1)\n",
    "#passing thorugh second layer\n",
    "Output2 = np.dot(Output1, Weight2.T) + Biases2\n",
    "# print(Output2)\n",
    "\n",
    "Output3 = np.dot(Output2, Weight3.T) + Biases3\n",
    "# print(Output3)\n",
    "\n",
    "Output4 = np.dot(Output3, Weight4.T) + Biases4\n",
    "# print(Output4)\n",
    "\n",
    "Output5 = np.dot(Output4, Weight5.T) + Biases5\n",
    "print(\"here is a final output\")\n",
    "print(Output5)\n",
    "\n",
    "#It is 5 layer neural network Input is a input and Output5 is a net output"
   ]
  },
  {
   "cell_type": "code",
   "execution_count": null,
   "id": "22689e1e-3a94-425d-a5f9-fa7523bbac36",
   "metadata": {},
   "outputs": [],
   "source": []
  }
 ],
 "metadata": {
  "kernelspec": {
   "display_name": "Python 3 (ipykernel)",
   "language": "python",
   "name": "python3"
  },
  "language_info": {
   "codemirror_mode": {
    "name": "ipython",
    "version": 3
   },
   "file_extension": ".py",
   "mimetype": "text/x-python",
   "name": "python",
   "nbconvert_exporter": "python",
   "pygments_lexer": "ipython3",
   "version": "3.13.1"
  }
 },
 "nbformat": 4,
 "nbformat_minor": 5
}
