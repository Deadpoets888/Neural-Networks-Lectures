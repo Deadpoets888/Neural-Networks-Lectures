{
 "cells": [
  {
   "cell_type": "code",
   "execution_count": 15,
   "id": "3d058289-a7e2-48e9-b9d6-a17c4c11e4d3",
   "metadata": {},
   "outputs": [
    {
     "name": "stdout",
     "output_type": "stream",
     "text": [
      "87\n"
     ]
    }
   ],
   "source": [
    "Input = np.array([4, 1, 6, 8])\n",
    "Weight = np.array([2, 3, 4, 6])\n",
    "Biases = 4\n",
    "\n",
    "output = np.dot(Weight, Input ) + Biases\n",
    "print(output)"
   ]
  },
  {
   "cell_type": "code",
   "execution_count": 6,
   "id": "53c8f9df-b1ef-4145-9a4b-b9155a9f99fe",
   "metadata": {},
   "outputs": [
    {
     "name": "stdout",
     "output_type": "stream",
     "text": [
      "[87.  15.2  7.1]\n"
     ]
    }
   ],
   "source": [
    "#using numpy\n",
    "import numpy as np\n",
    "\n",
    "Input = np.array([4, 1, 6, 8])\n",
    "Weight = np.array([[2, 3, 4, 6], [0.2, 0.6, 0.4, 0.8], [0.1, 0.6, 0.15, -0.1]])\n",
    "Biases = np.array([4, 5, 6])\n",
    "\n",
    "output = np.dot(Weight, Input ) + Biases\n",
    "print(output)"
   ]
  },
  {
   "cell_type": "code",
   "execution_count": 13,
   "id": "56a43a2c-3b14-4d3c-8265-dffe5b9f4f8d",
   "metadata": {},
   "outputs": [
    {
     "name": "stdout",
     "output_type": "stream",
     "text": [
      "[[ 87.    15.2    7.1 ]\n",
      " [ 87.    16.2    9.3 ]\n",
      " [104.    17.6    9.55]]\n"
     ]
    }
   ],
   "source": [
    "#bach of data\n",
    "Input = np.array([[4, 1, 6, 8], [1,5,6,7], [5,4,9,7]])\n",
    "Weight = np.array([[2, 3, 4, 6], [0.2, 0.6, 0.4, 0.8], [0.1, 0.6, 0.15, -0.1]])\n",
    "Biases = np.array([4, 5, 6])\n",
    "\n",
    "output =  np.dot(Input, Weight.T) + Biases\n",
    "print(output)"
   ]
  },
  {
   "cell_type": "code",
   "execution_count": null,
   "id": "63b0adf3-5cc6-4d21-bafc-48ed320d8a89",
   "metadata": {},
   "outputs": [],
   "source": []
  },
  {
   "cell_type": "code",
   "execution_count": null,
   "id": "334e607a-ca71-43a8-bb7f-f2b847d19ca3",
   "metadata": {},
   "outputs": [],
   "source": []
  }
 ],
 "metadata": {
  "kernelspec": {
   "display_name": "Python 3 (ipykernel)",
   "language": "python",
   "name": "python3"
  },
  "language_info": {
   "codemirror_mode": {
    "name": "ipython",
    "version": 3
   },
   "file_extension": ".py",
   "mimetype": "text/x-python",
   "name": "python",
   "nbconvert_exporter": "python",
   "pygments_lexer": "ipython3",
   "version": "3.13.1"
  }
 },
 "nbformat": 4,
 "nbformat_minor": 5
}
