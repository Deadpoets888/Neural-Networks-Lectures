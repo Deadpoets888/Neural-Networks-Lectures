{
 "cells": [
  {
   "cell_type": "markdown",
   "id": "f502b8b4-5ebb-4d23-9154-1c2f76d78f9d",
   "metadata": {},
   "source": [
    "#Loss function"
   ]
  },
  {
   "cell_type": "code",
   "execution_count": null,
   "id": "4a5ec075-5dab-40c7-899c-7c223dc8f1b0",
   "metadata": {},
   "outputs": [],
   "source": []
  }
 ],
 "metadata": {
  "kernelspec": {
   "display_name": "Python 3 (ipykernel)",
   "language": "python",
   "name": "python3"
  },
  "language_info": {
   "codemirror_mode": {
    "name": "ipython",
    "version": 3
   },
   "file_extension": ".py",
   "mimetype": "text/x-python",
   "name": "python",
   "nbconvert_exporter": "python",
   "pygments_lexer": "ipython3",
   "version": "3.13.1"
  }
 },
 "nbformat": 4,
 "nbformat_minor": 5
}
